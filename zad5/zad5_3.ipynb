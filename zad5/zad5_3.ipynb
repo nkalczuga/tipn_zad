{
 "cells": [
  {
   "cell_type": "code",
   "execution_count": 9,
   "metadata": {},
   "outputs": [
    {
     "name": "stdin",
     "output_type": "stream",
     "text": [
      "Podaj dowolne zdanie:  mam nadzieje że działasz\n"
     ]
    },
    {
     "name": "stdout",
     "output_type": "stream",
     "text": [
      "Ilość słów użytych w zdaniu wynosi:  4\n"
     ]
    }
   ],
   "source": [
    "zdanie = input(\"Podaj dowolne zdanie: \")\n",
    "cos = 0\n",
    "for i in zdanie:\n",
    "    if i == \" \":\n",
    "        cos +=1\n",
    "cos = cos+1\n",
    "print(\"Ilość słów użytych w zdaniu wynosi: \", cos)"
   ]
  },
  {
   "cell_type": "code",
   "execution_count": null,
   "metadata": {},
   "outputs": [],
   "source": []
  }
 ],
 "metadata": {
  "kernelspec": {
   "display_name": "Python 3",
   "language": "python",
   "name": "python3"
  },
  "language_info": {
   "codemirror_mode": {
    "name": "ipython",
    "version": 3
   },
   "file_extension": ".py",
   "mimetype": "text/x-python",
   "name": "python",
   "nbconvert_exporter": "python",
   "pygments_lexer": "ipython3",
   "version": "3.7.0"
  }
 },
 "nbformat": 4,
 "nbformat_minor": 2
}
