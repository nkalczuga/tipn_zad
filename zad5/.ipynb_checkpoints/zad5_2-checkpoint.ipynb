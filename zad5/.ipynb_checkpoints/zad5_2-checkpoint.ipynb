{
 "cells": [
  {
   "cell_type": "code",
   "execution_count": 1,
   "metadata": {},
   "outputs": [
    {
     "name": "stdin",
     "output_type": "stream",
     "text": [
      "Podaj liczbę:  234\n"
     ]
    },
    {
     "name": "stdout",
     "output_type": "stream",
     "text": [
      "Suma cyfr podanej liczby jest równa  9 .\n"
     ]
    }
   ],
   "source": [
    "zdanie = str(input(\"Podaj liczbę: \"))\n",
    "\n",
    "suma_cyfr = []\n",
    "for i in zdanie:\n",
    "    suma_cyfr.append(i)\n",
    "liczby = list(map(int, list(zdanie)))\n",
    "\n",
    "\n",
    "print(\"Suma cyfr podanej liczby jest równa \", sum(liczby),\".\") "
   ]
  },
  {
   "cell_type": "code",
   "execution_count": null,
   "metadata": {},
   "outputs": [],
   "source": []
  }
 ],
 "metadata": {
  "kernelspec": {
   "display_name": "Python 3",
   "language": "python",
   "name": "python3"
  },
  "language_info": {
   "codemirror_mode": {
    "name": "ipython",
    "version": 3
   },
   "file_extension": ".py",
   "mimetype": "text/x-python",
   "name": "python",
   "nbconvert_exporter": "python",
   "pygments_lexer": "ipython3",
   "version": "3.7.0"
  }
 },
 "nbformat": 4,
 "nbformat_minor": 2
}
