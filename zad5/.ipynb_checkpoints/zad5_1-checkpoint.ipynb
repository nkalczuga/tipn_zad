{
 "cells": [
  {
   "cell_type": "code",
   "execution_count": 4,
   "metadata": {},
   "outputs": [
    {
     "name": "stdin",
     "output_type": "stream",
     "text": [
      "Podaj jakąś liczbę:  5\n"
     ]
    },
    {
     "name": "stdout",
     "output_type": "stream",
     "text": [
      "Silnia jest równa:  120\n"
     ]
    }
   ],
   "source": [
    "zdanie = int(input(\"Podaj jakąś liczbę: \"))\n",
    "liczba = 1\n",
    "if zdanie == 0:\n",
    "    print(\"1\")\n",
    "else:\n",
    "    while zdanie >=1:\n",
    "        liczba = liczba*zdanie\n",
    "        zdanie = zdanie - 1\n",
    "    print(\"Silnia jest równa: \", liczba)"
   ]
  },
  {
   "cell_type": "code",
   "execution_count": null,
   "metadata": {},
   "outputs": [],
   "source": []
  }
 ],
 "metadata": {
  "kernelspec": {
   "display_name": "Python 3",
   "language": "python",
   "name": "python3"
  },
  "language_info": {
   "codemirror_mode": {
    "name": "ipython",
    "version": 3
   },
   "file_extension": ".py",
   "mimetype": "text/x-python",
   "name": "python",
   "nbconvert_exporter": "python",
   "pygments_lexer": "ipython3",
   "version": "3.7.0"
  }
 },
 "nbformat": 4,
 "nbformat_minor": 2
}
