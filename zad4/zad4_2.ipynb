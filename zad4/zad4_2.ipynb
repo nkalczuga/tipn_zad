{
 "cells": [
  {
   "cell_type": "code",
   "execution_count": null,
   "metadata": {},
   "outputs": [],
   "source": [
    "przedmioty = ['metodologia', 'filozofia', 'logika', 'neuroanatomia', 'wf' ]\n",
    "a = input(\"Dodaj przedmiot: \")\n",
    "przedmioty.append(a)\n",
    "a = input(\"Dodaj 2 przedmiot: \")\n",
    "przedmioty.append(a)\n",
    "a = input(\"Dodaj 3 przedmiot: \")\n",
    "przedmioty.append(a)"
   ]
  },
  {
   "cell_type": "code",
   "execution_count": null,
   "metadata": {},
   "outputs": [],
   "source": [
    "oceny = [ '4.5', '3.0', '4.5', '4.0', '5.0' ]\n",
    "b = input(\"dodaj ocenę: \")\n",
    "oceny.append(float(b))\n",
    "b = input(\"dodaj 2 ocenę: \")\n",
    "oceny.append(float(b))\n",
    "b = input(\"dodaj 3 ocenę: \")\n",
    "oceny.append(float(b))"
   ]
  },
  {
   "cell_type": "code",
   "execution_count": null,
   "metadata": {},
   "outputs": [],
   "source": [
    "len(przedmioty)"
   ]
  },
  {
   "cell_type": "code",
   "execution_count": null,
   "metadata": {},
   "outputs": [],
   "source": []
  }
 ],
 "metadata": {
  "kernelspec": {
   "display_name": "Python 3",
   "language": "python",
   "name": "python3"
  },
  "language_info": {
   "codemirror_mode": {
    "name": "ipython",
    "version": 3
   },
   "file_extension": ".py",
   "mimetype": "text/x-python",
   "name": "python",
   "nbconvert_exporter": "python",
   "pygments_lexer": "ipython3",
   "version": "3.7.0"
  }
 },
 "nbformat": 4,
 "nbformat_minor": 2
}
