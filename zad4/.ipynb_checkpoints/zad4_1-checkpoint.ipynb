{
 "cells": [
  {
   "cell_type": "code",
   "execution_count": null,
   "metadata": {},
   "outputs": [],
   "source": [
    "podstawa = []\n",
    "zdanie = input(\"Wpisz zdanie: \")\n"
   ]
  },
  {
   "cell_type": "code",
   "execution_count": null,
   "metadata": {},
   "outputs": [],
   "source": [
    "for i in zdanie:\n",
    "    podstawa.append(i)\n",
    "    znak=zdanie[-1]"
   ]
  },
  {
   "cell_type": "code",
   "execution_count": null,
   "metadata": {},
   "outputs": [],
   "source": [
    "if (zanak==\".\"):\n",
    "    print(\"Rozumiem. Pewnie masz rację.\")\n",
    "    elif (znak==\"?\"):\n",
    "        print(\"Nie wiem, nie znam się.\")\n",
    "    elif (znak==\"!\"):\n",
    "        print(\"Nie krzycz! Słyszę całkiem dobrze!\")\n",
    "        "
   ]
  },
  {
   "cell_type": "code",
   "execution_count": null,
   "metadata": {},
   "outputs": [],
   "source": []
  }
 ],
 "metadata": {
  "kernelspec": {
   "display_name": "Python 3",
   "language": "python",
   "name": "python3"
  },
  "language_info": {
   "codemirror_mode": {
    "name": "ipython",
    "version": 3
   },
   "file_extension": ".py",
   "mimetype": "text/x-python",
   "name": "python",
   "nbconvert_exporter": "python",
   "pygments_lexer": "ipython3",
   "version": "3.7.0"
  }
 },
 "nbformat": 4,
 "nbformat_minor": 2
}
