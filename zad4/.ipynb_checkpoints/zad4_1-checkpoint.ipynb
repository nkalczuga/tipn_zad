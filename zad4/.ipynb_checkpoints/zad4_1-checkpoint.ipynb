{
 "cells": [
  {
   "cell_type": "code",
   "execution_count": null,
   "metadata": {},
   "outputs": [],
   "source": [
    "a = input(\"Wpisz zdanie: \")\n",
    "\n",
    "\n",
    "if a[-1] == \".\":\n",
    "    print(\"Rozumiem, pewnie masz rację.\")\n",
    "elif a[-1] == \"?\":\n",
    "    print(\"Nie wiem, nie znam się.\")\n",
    "elif a[-1] == \"!\":\n",
    "    print(\"Nie krzycz! Słyszę cię całkiem dobrze!\")"
   ]
  },
  {
   "cell_type": "code",
   "execution_count": null,
   "metadata": {},
   "outputs": [],
   "source": [
    "   "
   ]
  }
 ],
 "metadata": {
  "kernelspec": {
   "display_name": "Python 3",
   "language": "python",
   "name": "python3"
  },
  "language_info": {
   "codemirror_mode": {
    "name": "ipython",
    "version": 3
   },
   "file_extension": ".py",
   "mimetype": "text/x-python",
   "name": "python",
   "nbconvert_exporter": "python",
   "pygments_lexer": "ipython3",
   "version": "3.7.0"
  }
 },
 "nbformat": 4,
 "nbformat_minor": 2
}
