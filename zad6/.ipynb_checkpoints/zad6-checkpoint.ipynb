{
 "cells": [
  {
   "cell_type": "markdown",
   "metadata": {},
   "source": [
    "# Jakim rodzajem ciasta jesteś?\n",
    "Przed tobą znajduje się jedyny w swoim rodzaju **test osobowości**!\n",
    "Rozwiąż go jak najprędzej a dowiesz się jaki/a na prawdę jesteś!\n",
    "\n",
    "Powodzenia :D"
   ]
  },
  {
   "cell_type": "code",
   "execution_count": 9,
   "metadata": {},
   "outputs": [],
   "source": [
    "a = \"Jak bardzo ludzie cieszą się na twój widok?\"\n",
    "b = \"Jak bardzo potrafisz pocieszyć?\"\n",
    "c = \"Czy ludzie witają cię mile tylko w każdych okolicznościach?\"\n",
    "d = \"Jak bardzo różnorodny jesteś?\"\n",
    "e = \"Czy potrafisz zadowolić każdego?\"\n",
    "\n",
    "lista=[a,b,c,d,e]"
   ]
  },
  {
   "cell_type": "code",
   "execution_count": 37,
   "metadata": {},
   "outputs": [],
   "source": []
  },
  {
   "cell_type": "code",
   "execution_count": 10,
   "metadata": {},
   "outputs": [],
   "source": [
    "punkty=[]\n",
    "\n",
    "def pytania(lista):\n",
    "    print(\"Pytanie 1: \", lista[0])\n",
    "    odp=input(\"Odpowiedz na pytanie cyfrą ze skali od 1 do 5, gdzie 1 oznacza zupełnie się nie zgadzam, a 5 całkowicie się zgadzam.\")\n",
    "    odp=int(odp)\n",
    "    punkty.append(odp)\n",
    "    \n",
    "    print(\"Pytanie 2: \", lista[1])\n",
    "    odp=input(\"Odpowiedz na pytanie cyfrą ze skali od 1 do 5, gdzie 1 oznacza zupełnie się nie zgadzam, a 5 całkowicie się zgadzam.\")\n",
    "    odp=int(odp)\n",
    "    punkty.append(odp)\n",
    "    \n",
    "    print(\"Pytanie 3: \", lista[2])\n",
    "    odp=input(\"Odpowiedz na pytanie cyfrą ze skali od 1 do 5, gdzie 1 oznacza zupełnie się nie zgadzam, a 5 całkowicie się zgadzam.\")\n",
    "    odp=int(odp)\n",
    "    punkty.append(odp)\n",
    "    \n",
    "    print(\"Pytanie 4: \", lista[3])\n",
    "    odp=input(\"Odpowiedz na pytanie cyfrą ze skali od 1 do 5, gdzie 1 oznacza zupełnie się nie zgadzam, a 5 całkowicie się zgadzam.\")\n",
    "    odp=int(odp)\n",
    "    punkty.append(odp)\n",
    "    \n",
    "    print(\"Pytanie 5: \", lista[4])\n",
    "    odp=input(\"Odpowiedz na pytanie cyfrą ze skali od 1 do 5, gdzie 1 oznacza zupełnie się nie zgadzam, a 5 całkowicie się zgadzam.\")\n",
    "    odp=int(odp)\n",
    "    punkty.append(odp)\n",
    "    \n",
    "    wynik=sum(punkty)\n",
    "    if wynik >=5 and wynik <8:\n",
    "        print(\"Jesteś jak zakalec! Mówiąc lekko - nie jesteś nigdzie mile widziany. Ludzie są rozczarowni twoim widokiem. Nikt nie chce nawiązywa  bliższych kontaktów. Kiedy pojawisz się - ludzie szybko się ciebie pozbywają. Nie powalasz wyglądem i nie masz nic do zaoferowania.\")\n",
    "    elif wynik >=8 and wynik <11:\n",
    "        print(\"Jesteś piernikiem! Ludzie widują się z tobą tylko okazyjnie - przeważnie tylko w święta. Zazwyczaj jesteś przyjmowany umiarkowanie entuzjastycznie - ludzie nie są oszołomieni twoim widokiem. Nie wnosisz zbyt wiele do ich życia. Zazwyczaj więcej z tobą zachodu niż pożytku.\")\n",
    "    elif wynik >=12 and wynik <16:\n",
    "        print(\"Jesteś ciastem na pierogi! Nie gościsz w kręgach towarzskich bardzo często, ale kiedy już to robisz podbijasz serca osób z którymi się znajdujesz. Ludzie kojarzą cię z ciepłem, które dawała im babcia, co jest bardzo pozytywne :). Masz swoich zagorzałych fanów, którzy cenią twoja wyjątkowość.\")\n",
    "    elif wynik >=16 and wynik <21:\n",
    "        print(\"Jesteś ciastem na pizze! Nie jesteś numerem jeden dla wszytskich, ale znakomita większość cię uwielbia. Potrafisz zasiać miłą, towarzyską atmosferę, potrafisz rozładoać konflikty - i ludzie za to cię cenią. Gdyby tego było mało dla swoich pasjonatów jesteś wzorem do naśladowania!\")\n",
    "    elif wynik >=21 and wynik <=25:\n",
    "        print(\"Jesteś tortem! Zadowalasz każde gusta. Ludzie cię uwielbiają. Poprawiasz ludziom humor od momentu, w którym cię zobaczą. Nie może cię zabraknąć na żadnej większej imprezie. Oczarowujesz ludzi swoją różnorodnością kreacji i wyszukanym smakiem.\")\n",
    "    return "
   ]
  },
  {
   "cell_type": "code",
   "execution_count": 37,
   "metadata": {},
   "outputs": [],
   "source": []
  },
  {
   "cell_type": "code",
   "execution_count": null,
   "metadata": {},
   "outputs": [
    {
     "name": "stdout",
     "output_type": "stream",
     "text": [
      "Pytanie 1:  Jak bardzo ludzie cieszą się na twój widok?\n"
     ]
    }
   ],
   "source": [
    "pytania(lista)"
   ]
  },
  {
   "cell_type": "code",
   "execution_count": null,
   "metadata": {},
   "outputs": [],
   "source": []
  },
  {
   "cell_type": "code",
   "execution_count": 25,
   "metadata": {},
   "outputs": [
    {
     "data": {
      "text/plain": [
       "5"
      ]
     },
     "execution_count": 25,
     "metadata": {},
     "output_type": "execute_result"
    }
   ],
   "source": []
  },
  {
   "cell_type": "code",
   "execution_count": null,
   "metadata": {},
   "outputs": [],
   "source": []
  }
 ],
 "metadata": {
  "kernelspec": {
   "display_name": "Python 3",
   "language": "python",
   "name": "python3"
  },
  "language_info": {
   "codemirror_mode": {
    "name": "ipython",
    "version": 3
   },
   "file_extension": ".py",
   "mimetype": "text/x-python",
   "name": "python",
   "nbconvert_exporter": "python",
   "pygments_lexer": "ipython3",
   "version": "3.7.0"
  }
 },
 "nbformat": 4,
 "nbformat_minor": 2
}
